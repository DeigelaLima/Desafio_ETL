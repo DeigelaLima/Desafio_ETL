{
 "cells": [
  {
   "cell_type": "code",
   "execution_count": 1,
   "id": "ccecff65",
   "metadata": {},
   "outputs": [],
   "source": [
    "import pandas as pd"
   ]
  },
  {
   "cell_type": "code",
   "execution_count": 4,
   "id": "cffbfec9",
   "metadata": {},
   "outputs": [
    {
     "data": {
      "text/html": [
       "<div>\n",
       "<style scoped>\n",
       "    .dataframe tbody tr th:only-of-type {\n",
       "        vertical-align: middle;\n",
       "    }\n",
       "\n",
       "    .dataframe tbody tr th {\n",
       "        vertical-align: top;\n",
       "    }\n",
       "\n",
       "    .dataframe thead th {\n",
       "        text-align: right;\n",
       "    }\n",
       "</style>\n",
       "<table border=\"1\" class=\"dataframe\">\n",
       "  <thead>\n",
       "    <tr style=\"text-align: right;\">\n",
       "      <th></th>\n",
       "      <th>nome_cliente</th>\n",
       "      <th>idade</th>\n",
       "      <th>cidade_residencia</th>\n",
       "    </tr>\n",
       "  </thead>\n",
       "  <tbody>\n",
       "    <tr>\n",
       "      <th>0</th>\n",
       "      <td>João</td>\n",
       "      <td>35</td>\n",
       "      <td>São Paulo</td>\n",
       "    </tr>\n",
       "    <tr>\n",
       "      <th>2</th>\n",
       "      <td>Carlos</td>\n",
       "      <td>42</td>\n",
       "      <td>Belo Horizonte</td>\n",
       "    </tr>\n",
       "    <tr>\n",
       "      <th>3</th>\n",
       "      <td>Ana</td>\n",
       "      <td>31</td>\n",
       "      <td>Porto Alegre</td>\n",
       "    </tr>\n",
       "  </tbody>\n",
       "</table>\n",
       "</div>"
      ],
      "text/plain": [
       "  nome_cliente  idade cidade_residencia\n",
       "0         João     35         São Paulo\n",
       "2       Carlos     42    Belo Horizonte\n",
       "3          Ana     31      Porto Alegre"
      ]
     },
     "execution_count": 4,
     "metadata": {},
     "output_type": "execute_result"
    }
   ],
   "source": [
    "# Passo 1: Ler os dados do arquivo CSV\n",
    "csv_file = \"dados.csv\"\n",
    "df = pd.read_csv(csv_file)\n",
    "\n",
    "# Passo 2: Aplicar Transformações (Exemplo: Filtrar e renomear colunas)\n",
    "df = df[df['idade'] > 30]  # Exemplo de filtro: manter apenas registros com idade maior que 30\n",
    "df = df.rename(columns={'nome': 'nome_cliente', 'cidade': 'cidade_residencia'})  # Exemplo de renomear colunas\n",
    "\n",
    "# Passo 3: Salvar os dados transformados em um novo arquivo JSON\n",
    "json_transformed_file = \"dados_transformados.json\"\n",
    "df.to_json(json_transformed_file, orient=\"records\")\n",
    "\n",
    "# Exibir os dados transformados para verificar\n",
    "df.head()\n"
   ]
  }
 ],
 "metadata": {
  "kernelspec": {
   "display_name": "Python 3 (ipykernel)",
   "language": "python",
   "name": "python3"
  },
  "language_info": {
   "codemirror_mode": {
    "name": "ipython",
    "version": 3
   },
   "file_extension": ".py",
   "mimetype": "text/x-python",
   "name": "python",
   "nbconvert_exporter": "python",
   "pygments_lexer": "ipython3",
   "version": "3.10.12"
  }
 },
 "nbformat": 4,
 "nbformat_minor": 5
}
